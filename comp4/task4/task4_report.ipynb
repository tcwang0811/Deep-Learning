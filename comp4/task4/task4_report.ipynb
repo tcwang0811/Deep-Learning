{
 "cells": [
  {
   "cell_type": "markdown",
   "metadata": {},
   "source": [
    "# 深度學習第四次競賽報告 - 第12組 工具人智慧\n",
    "組員：\n",
    "<br/>107024501 高瑀鍹\n",
    "<br/>107024506 王子誠\n",
    "<br/>107024511 羅揚\n",
    "<br/>107024522 戴子翔"
   ]
  },
  {
   "cell_type": "markdown",
   "metadata": {},
   "source": [
    "# Task 4"
   ]
  },
  {
   "cell_type": "markdown",
   "metadata": {},
   "source": [
    "## Data Preprocessing and Augmentation\n",
    "\n",
    "我們使用Tranfer learning的方式進行訓練，因此必須要有與task 3相同的preprocessing。我們先將圖片轉為灰階並將圖片的大小壓縮至64x64，最後，再將圖片normaliz至0~1。augmentataion的部分也與先前相同使用旋轉與水平、垂直翻轉。"
   ]
  },
  {
   "cell_type": "markdown",
   "metadata": {},
   "source": [
    "## Model Architecture and Loss Function\n",
    "\n",
    "因為使用tranfer learning的緣故，我們使用的模型架構與task 3相同，loss function也一樣使用contrasitive loss。"
   ]
  },
  {
   "cell_type": "markdown",
   "metadata": {},
   "source": [
    "## Transfer Learning\n",
    "\n",
    "雖然Bonus 1的資料與task 3的資料差在更強的Adversarial attack與一些秘密方法，但肉眼上看兩份資料的圖片卻仍有一點相似，因此我們是使用Transfer learning的方式，將在task 2的資料train 85個epoch、task 3的資料train 45個epoch的模型之後，再使用bonus 1的資料繼續訓練。根據validation的結果，只需接續再訓練20個epoch，即第150個epoch時，便可有很好的結果，validation準確度達到約32.1%。"
   ]
  }
 ],
 "metadata": {
  "kernelspec": {
   "display_name": "Python 3",
   "language": "python",
   "name": "python3"
  },
  "language_info": {
   "codemirror_mode": {
    "name": "ipython",
    "version": 3
   },
   "file_extension": ".py",
   "mimetype": "text/x-python",
   "name": "python",
   "nbconvert_exporter": "python",
   "pygments_lexer": "ipython3",
   "version": "3.7.3"
  }
 },
 "nbformat": 4,
 "nbformat_minor": 2
}
