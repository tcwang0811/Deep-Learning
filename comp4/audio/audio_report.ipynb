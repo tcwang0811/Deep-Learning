{
 "cells": [
  {
   "cell_type": "markdown",
   "metadata": {},
   "source": [
    "# 深度學習第四次競賽報告 - 第12組 工具人智慧\n",
    "組員：\n",
    "<br/>107024501 高瑀鍹\n",
    "<br/>107024506 王子誠\n",
    "<br/>107024511 羅揚\n",
    "<br/>107024522 戴子翔"
   ]
  },
  {
   "cell_type": "markdown",
   "metadata": {},
   "source": [
    "# Audio"
   ]
  },
  {
   "cell_type": "markdown",
   "metadata": {},
   "source": [
    "## Features\n",
    "\n",
    "為了擷取重要的音檔資訊我們取幾個重要的features : \n",
    "1. melspectrogram : 因為clip的音頻會較為特殊，因此把音檔轉換成頻譜圖，並取它在頻率域上的資訊。\n",
    "2. spectral centroid : 把頻譜的中心代表聲音的質心，當頻譜中心越小，就代表越多的頻譜能量集中在低頻範圍內。\n",
    "3. spectral_bandwidth : 計算所對應到的頻譜寬。 \n",
    "4. spectral rolloff : 比該頻率低的頻率的所有能量大於85%的整個頻率的能量。\n",
    "5. zero_crossing_rate : 為過零率，音檔的語音信息通過零點的次數。\n",
    "6. tonnetz : 計算它的音調質心。\n",
    "\n",
    "並將這些features column-wise的併再一起。"
   ]
  },
  {
   "cell_type": "markdown",
   "metadata": {},
   "source": [
    "## Model Architecture\n",
    "\n",
    "這裡都是用1D Convolutional Neural Networks去疊我們所需要的架構，它比較適用於time series的data或特定訊號在固定的時間區間中，而我們padding的方式為valid的方式，代表它輸出的維度會低於它輸入的維度，而我們activation的function取的是relu的方式，它表現比較好的原因為因為我們這裡取的音檔資訊，會有很多高低起伏的資訊，這裡我們用relu的特性all or none law，若音檔的振幅未達一定高度，可以合理懷疑它是不重要的聲音資訊，輸出就會為0。\n",
    "<br/>最後，我們將此問題視作多分類問題，使用3個neuron為output layer並以softmax為activation function，我們會挑選在三個中數值最大的為它的預測。"
   ]
  },
  {
   "cell_type": "markdown",
   "metadata": {},
   "source": [
    "## Other Methods\n",
    "\n",
    "藉由train資料裡的bgm_start和mix_start取接下來的一秒的資訊去訊練模型，其中bgm_start持續一秒的時間所對應的response為0，而mix_start持續一秒的時間所對應的response為1，原因是在dataset說明中有提到mix_start為提示音的時間點，而bgm_start為乾淨的音樂沒有任何提示音的時間，藉由這樣的想法，可以把原本的幾個提示音的問題，轉換成在這一秒裡，是否有提示音的問題，且我們利用random forest的方法去解決這樣去解決這樣的classification的問題，且在validation的資料裡頭我們可以做到高達0.58的準確度，很不幸地在public leadboard中，這樣的方法準確率只有三成，效果並不好。"
   ]
  }
 ],
 "metadata": {
  "kernelspec": {
   "display_name": "Python 3",
   "language": "python",
   "name": "python3"
  },
  "language_info": {
   "codemirror_mode": {
    "name": "ipython",
    "version": 3
   },
   "file_extension": ".py",
   "mimetype": "text/x-python",
   "name": "python",
   "nbconvert_exporter": "python",
   "pygments_lexer": "ipython3",
   "version": "3.7.3"
  }
 },
 "nbformat": 4,
 "nbformat_minor": 2
}
