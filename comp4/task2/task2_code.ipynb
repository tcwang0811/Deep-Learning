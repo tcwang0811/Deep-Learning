{
 "cells": [
  {
   "cell_type": "code",
   "execution_count": 1,
   "metadata": {},
   "outputs": [],
   "source": [
    "import tensorflow as tf\n",
    "import numpy as np\n",
    "\n",
    "import pandas as pd\n",
    "\n",
    "import time\n",
    "\n",
    "import matplotlib.pyplot as plt"
   ]
  },
  {
   "cell_type": "code",
   "execution_count": 2,
   "metadata": {},
   "outputs": [
    {
     "name": "stdout",
     "output_type": "stream",
     "text": [
      "3 Physical GPUs, 1 Logical GPUs\n"
     ]
    }
   ],
   "source": [
    "gpus = tf.config.experimental.list_physical_devices('GPU')\n",
    "if gpus:\n",
    "    try:\n",
    "        # Restrict TensorFlow to only use the fourth GPU\n",
    "        tf.config.experimental.set_visible_devices(gpus[0], 'GPU')\n",
    "\n",
    "        # Currently, memory growth needs to be the same across GPUs\n",
    "        for gpu in gpus:\n",
    "            tf.config.experimental.set_memory_growth(gpu, True)\n",
    "        logical_gpus = tf.config.experimental.list_logical_devices('GPU')\n",
    "        print(len(gpus), \"Physical GPUs,\", len(logical_gpus), \"Logical GPUs\")\n",
    "    except RuntimeError as e:\n",
    "        # Memory growth must be set before GPUs have been initialized\n",
    "        print(e)"
   ]
  },
  {
   "cell_type": "code",
   "execution_count": 3,
   "metadata": {},
   "outputs": [],
   "source": [
    "BATCH_SIZE = 32\n",
    "IMG_H, IMG_W = 224, 224\n",
    "BUFFER_SIZE = 3000"
   ]
  },
  {
   "cell_type": "markdown",
   "metadata": {},
   "source": [
    "## 設定路徑"
   ]
  },
  {
   "cell_type": "code",
   "execution_count": 4,
   "metadata": {},
   "outputs": [],
   "source": [
    "PATH_TO_DATA = \"../Comp4/task2/data/\"\n",
    "PATH_CKPTS = \"../Comp4/task2/ckpts/16_resnet_cross/\"\n",
    "\n",
    "checkpoint_name = \"16_resnet_cross\""
   ]
  },
  {
   "cell_type": "code",
   "execution_count": 5,
   "metadata": {},
   "outputs": [],
   "source": [
    "MARGIN_C = 1.2\n",
    "LEARNING_RATE = 1e-4\n",
    "BETA = 0.5\n",
    "EPOCHS = 130\n",
    "\n",
    "CV_every = 5\n",
    "SAVE_every = 5"
   ]
  },
  {
   "cell_type": "code",
   "execution_count": 6,
   "metadata": {},
   "outputs": [],
   "source": [
    "aug_p = 0.9\n",
    "\n",
    "up_down_flip_p = 0.25\n",
    "left_right_flip_p = 0.5\n",
    "rot_p = 0.5"
   ]
  },
  {
   "cell_type": "code",
   "execution_count": 7,
   "metadata": {},
   "outputs": [],
   "source": [
    "def impute_answer(text):\n",
    "    assert len(text) <= 9\n",
    "    \n",
    "    if len(text) == 9:\n",
    "        return text\n",
    "    \n",
    "    need_char = 9 - len(text)\n",
    "    return (\"0\" * need_char) + text\n",
    "\n",
    "def get_q_a(folder, is_get_answer):\n",
    "    tr_q = np.genfromtxt(PATH_TO_DATA + folder + \"q.csv\", delimiter=',').astype(np.int32).astype(str)\n",
    "\n",
    "    tr_target = tr_q[:,0]\n",
    "    tr_target = np.expand_dims(tr_target, 1)\n",
    "    tr_target = np.repeat(tr_target, 9, axis=1)\n",
    "\n",
    "    tr_candidate = tr_q[:,1:]\n",
    "\n",
    "    if is_get_answer:\n",
    "        tr_a = np.genfromtxt(PATH_TO_DATA + folder + \"a.csv\", delimiter=',').astype(np.int32).astype(str)    \n",
    "        ans = []\n",
    "        for i in range(tr_a.shape[0]):\n",
    "            ans.append(list(impute_answer(tr_a[i, 1])))\n",
    "\n",
    "        ans = np.asarray(ans).astype(np.int32)\n",
    "        \n",
    "        return tr_target, tr_candidate, ans\n",
    "    else:\n",
    "        return tr_target, tr_candidate"
   ]
  },
  {
   "cell_type": "code",
   "execution_count": 8,
   "metadata": {},
   "outputs": [],
   "source": [
    "@tf.function\n",
    "def image_preprocess(folder, img_name):\n",
    "    img = tf.io.read_file(PATH_TO_DATA + folder + img_name + \".png\")\n",
    "    img = tf.image.decode_image(img, channels=3)\n",
    "    img.set_shape([IMG_H, IMG_W, 3])\n",
    "\n",
    "    img = tf.cast(img, tf.float32)    \n",
    "    img = tf.image.rgb_to_grayscale(img)\n",
    "    img = tf.image.grayscale_to_rgb(img)\n",
    "    \n",
    "    img = img[...,::-1]\n",
    "    img = img - (103.939, 116.779, 123.68)\n",
    "    \n",
    "    return img"
   ]
  },
  {
   "cell_type": "code",
   "execution_count": 9,
   "metadata": {},
   "outputs": [],
   "source": [
    "@tf.function\n",
    "def random_flip(image):\n",
    "    up_down_outcome = tf.random.uniform([1], 0, 1)\n",
    "    right_left_outcome = tf.random.uniform([1], 0, 1)\n",
    "\n",
    "    if up_down_outcome<up_down_flip_p:\n",
    "        image = tf.image.flip_up_down(image)\n",
    "\n",
    "    if right_left_outcome<left_right_flip_p:\n",
    "        image = tf.image.flip_left_right(image)\n",
    "\n",
    "    return image\n",
    "\n",
    "@tf.function\n",
    "def random_rot90(image):\n",
    "    prob = tf.random.uniform([1],0,1)\n",
    "    \n",
    "    if prob < (rot_p/2):\n",
    "        image = tf.image.rot90(image)\n",
    "    elif (prob >= (rot_p/2)) and (prob < rot_p):\n",
    "        image = tf.image.rot90(image, k=2)   \n",
    "        \n",
    "    return image\n",
    "\n",
    "@tf.function\n",
    "def image_augmentation(img):\n",
    "    aug_sample = tf.random.uniform([1],0,1)\n",
    "    \n",
    "    if aug_sample < aug_p:\n",
    "        img = random_flip(img)\n",
    "        img = random_rot90(img)\n",
    "    \n",
    "    return img"
   ]
  },
  {
   "cell_type": "code",
   "execution_count": 10,
   "metadata": {},
   "outputs": [],
   "source": [
    "tr_target, tr_candidate, tr_ans = get_q_a(\"s2_train/\", is_get_answer=True)\n",
    "val_target, val_candidate, val_ans = get_q_a(\"s2_valid/\", is_get_answer=True)\n",
    "te_target, te_candidate = get_q_a(\"s2_test/\", is_get_answer=False)"
   ]
  },
  {
   "cell_type": "markdown",
   "metadata": {},
   "source": [
    "# Dataset"
   ]
  },
  {
   "cell_type": "code",
   "execution_count": 11,
   "metadata": {},
   "outputs": [],
   "source": [
    "class ds_train_generator(object):\n",
    "    def __init__(self, target, candidate, answer, ds_folder):\n",
    "        self.target = target[:, 0]\n",
    "        self.candidate = candidate\n",
    "        self.answer = answer\n",
    "        self.ds_folder = ds_folder\n",
    "        \n",
    "    def preprocessing(self, target, candidate, answer):\n",
    "        img_target = image_preprocess(self.ds_folder, target)\n",
    "        \n",
    "        qq = tf.random.uniform((), 0, 9)\n",
    "        sample_idx = tf.cast(qq, tf.int32)\n",
    "        sampled_candidate = tf.gather(candidate, sample_idx, axis=0)\n",
    "        sampled_answer = tf.gather(answer, sample_idx, axis=0)\n",
    "        \n",
    "        img_candidate = image_preprocess(self.ds_folder, sampled_candidate)\n",
    "        answer = tf.cast(sampled_answer, tf.float32)\n",
    "        \n",
    "        img_target = image_augmentation(img_target)\n",
    "        img_candidate = image_augmentation(img_candidate)\n",
    "        \n",
    "        return img_target, img_candidate, answer\n",
    "        \n",
    "    def generate(self):\n",
    "        dataset = tf.data.Dataset.from_tensor_slices((self.target,\n",
    "                                                      self.candidate,\n",
    "                                                      self.answer))\n",
    "        dataset = dataset.map(self.preprocessing, num_parallel_calls=tf.data.experimental.AUTOTUNE)\n",
    "        dataset = dataset.shuffle(BUFFER_SIZE).batch(BATCH_SIZE)\n",
    "        dataset = dataset.prefetch(buffer_size=tf.data.experimental.AUTOTUNE)\n",
    "        \n",
    "        return dataset"
   ]
  },
  {
   "cell_type": "code",
   "execution_count": 12,
   "metadata": {},
   "outputs": [],
   "source": [
    "class ds_test_generator(object):\n",
    "    def __init__(self, target, candidate, ds_folder):\n",
    "        self.target = target.flatten()\n",
    "        self.candidate = candidate.flatten()\n",
    "        self.ds_folder = ds_folder\n",
    "        \n",
    "    def preprocessing(self, target, candidate):\n",
    "        img_target = image_preprocess(self.ds_folder, target)\n",
    "        img_candidate = image_preprocess(self.ds_folder, candidate)\n",
    "        \n",
    "        return img_target, img_candidate\n",
    "        \n",
    "    def generate(self):\n",
    "        dataset = tf.data.Dataset.from_tensor_slices((self.target, self.candidate))\n",
    "        dataset = dataset.map(self.preprocessing, num_parallel_calls=tf.data.experimental.AUTOTUNE)\n",
    "        dataset = dataset.batch(BATCH_SIZE)\n",
    "        dataset = dataset.prefetch(buffer_size=tf.data.experimental.AUTOTUNE)\n",
    "        \n",
    "        return dataset"
   ]
  },
  {
   "cell_type": "code",
   "execution_count": 13,
   "metadata": {},
   "outputs": [],
   "source": [
    "ds_train_gen = ds_train_generator(tr_target, tr_candidate, tr_ans, \"s2_train_image/\")\n",
    "ds_train = ds_train_gen.generate()"
   ]
  },
  {
   "cell_type": "code",
   "execution_count": 14,
   "metadata": {},
   "outputs": [],
   "source": [
    "ds_valid_gen = ds_test_generator(val_target, val_candidate, \"s2_valid_image/\")\n",
    "ds_valid = ds_valid_gen.generate()\n",
    "\n",
    "ds_test_gen = ds_test_generator(te_target, te_candidate, \"s2_test_image/\")\n",
    "ds_test = ds_test_gen.generate()"
   ]
  },
  {
   "cell_type": "markdown",
   "metadata": {},
   "source": [
    "# Model and Loss"
   ]
  },
  {
   "cell_type": "code",
   "execution_count": 15,
   "metadata": {},
   "outputs": [],
   "source": [
    "class cnn_net(tf.keras.models.Model):\n",
    "    def __init__(self):\n",
    "        super(cnn_net, self).__init__()\n",
    "        self.pre_resnet = tf.keras.applications.ResNet50(include_top=False,\n",
    "                                                         weights='imagenet',\n",
    "                                                         input_shape=(IMG_H,IMG_W, 3))\n",
    "        self.model = tf.keras.Model(inputs=self.pre_resnet.input, outputs= self.pre_resnet.output)\n",
    "        self.model.trainable = False\n",
    "        \n",
    "        self.net1_flatten = tf.keras.layers.Flatten()\n",
    "        self.net1_Dense = tf.keras.layers.Dense(1024, activation='relu', use_bias=False,\n",
    "                                               kernel_initializer= tf.random_normal_initializer(stddev=0.02))       \n",
    "        self.net2_Dense = tf.keras.layers.Dense(512, activation='relu', use_bias=False, \n",
    "                                               kernel_initializer= tf.random_normal_initializer(stddev=0.02))        \n",
    "        self.net3_Dense = tf.keras.layers.Dense(256, activation='relu', use_bias=False,\n",
    "                                               kernel_initializer= tf.random_normal_initializer(stddev=0.02))\n",
    "        \n",
    "        self.net1_do = tf.keras.layers.Dropout(0.5)\n",
    "        self.net2_do = tf.keras.layers.Dropout(0.5)\n",
    "    \n",
    "    def call(self, inputs):             \n",
    "        net0 = self.model(inputs)\n",
    "        \n",
    "        net1 = self.net1_flatten(net0)\n",
    "        net1 = self.net1_Dense(net1)\n",
    "        net1 = self.net1_do(net1)\n",
    "        \n",
    "        net2 = self.net2_Dense(net1)\n",
    "        net2 = self.net2_do(net2)\n",
    "        \n",
    "        net3 = self.net3_Dense(net2)\n",
    "        \n",
    "        outputs = net3\n",
    "\n",
    "        return outputs"
   ]
  },
  {
   "cell_type": "code",
   "execution_count": 16,
   "metadata": {},
   "outputs": [],
   "source": [
    "class pred_net(tf.keras.Model):\n",
    "    def __init__(self):\n",
    "        super(pred_net, self).__init__()\n",
    "        self.L1_layer = tf.keras.layers.Lambda(lambda tensors:tf.math.abs(tensors[0] - tensors[1]))\n",
    "        self.Dense = tf.keras.layers.Dense(1,\n",
    "                                           activation='sigmoid',\n",
    "                                           bias_initializer=tf.random_normal_initializer(mean=0.5,stddev=0.01))\n",
    "\n",
    "    def call(self, target, candidate):\n",
    "        L1_distance = self.L1_layer([target, candidate])\n",
    "        pred = self.Dense(L1_distance)\n",
    "\n",
    "        return pred"
   ]
  },
  {
   "cell_type": "code",
   "execution_count": 17,
   "metadata": {},
   "outputs": [],
   "source": [
    "cross_entropy = tf.keras.losses.BinaryCrossentropy()\n",
    "\n",
    "def total_loss(true_answer, pred_answer):\n",
    "    return cross_entropy(true_answer, pred_answer)"
   ]
  },
  {
   "cell_type": "code",
   "execution_count": 18,
   "metadata": {},
   "outputs": [],
   "source": [
    "cnn_net = cnn_net()\n",
    "pred_net = pred_net()\n",
    "optimizer = tf.keras.optimizers.Adam(lr = LEARNING_RATE, beta_1 = BETA)"
   ]
  },
  {
   "cell_type": "markdown",
   "metadata": {},
   "source": [
    "# Step"
   ]
  },
  {
   "cell_type": "code",
   "execution_count": 19,
   "metadata": {},
   "outputs": [],
   "source": [
    "@tf.function\n",
    "def train_step(target, candidate, answer):\n",
    "    with tf.GradientTape() as tape:\n",
    "        # Generate the encodings (feature vectors) for the two images\n",
    "        target_output = cnn_net(target)\n",
    "        candidate_output = cnn_net(candidate)\n",
    "        \n",
    "        #pred\n",
    "        pred = pred_net(target_output, candidate_output)\n",
    "        \n",
    "        # loss\n",
    "        loss = total_loss(answer, pred)\n",
    "    \n",
    "    grads = tape.gradient(loss, cnn_net.trainable_variables + pred_net.trainable_variables)\n",
    "    optimizer.apply_gradients(zip(grads, cnn_net.trainable_variables + pred_net.trainable_variables))\n",
    "    \n",
    "    return loss"
   ]
  },
  {
   "cell_type": "code",
   "execution_count": 20,
   "metadata": {},
   "outputs": [],
   "source": [
    "@tf.function\n",
    "def test_step(target, candidate):\n",
    "    target_output = cnn_net(target)\n",
    "    candidate_output = cnn_net(candidate)\n",
    "    \n",
    "    return pred_net(target_output, candidate_output)"
   ]
  },
  {
   "cell_type": "code",
   "execution_count": 21,
   "metadata": {},
   "outputs": [],
   "source": [
    "def test(dataset):\n",
    "    out = []\n",
    "\n",
    "    for t, c in dataset:\n",
    "        curr = test_step(t, c)\n",
    "        out.extend(curr.numpy().tolist())\n",
    "        \n",
    "    out = np.asarray(out)\n",
    "    out = np.reshape(out, (-1,9))\n",
    "    \n",
    "    return out\n",
    "\n",
    "def cut_thres(y_pred, thres):\n",
    "    y_pred = (y_pred > thres).astype(np.int32)\n",
    "    \n",
    "    return y_pred\n",
    "\n",
    "def convert_to_int(y):\n",
    "    output = []\n",
    "    y = y.astype(str).tolist()\n",
    "    \n",
    "    for i in range(len(y)):\n",
    "        output.append(int(\"\".join(y[i])))\n",
    "        \n",
    "    return output\n",
    "\n",
    "def convert_to_output(y):\n",
    "    output = []\n",
    "    y = y.astype(str).tolist()\n",
    "    \n",
    "    for i in range(len(y)):\n",
    "        output.append(\"\".join(y[i]))\n",
    "        \n",
    "    return output\n",
    "\n",
    "def cal_acc(y_true, y_pred):\n",
    "    output = []\n",
    "    y_true = convert_to_int(y_true)\n",
    "    y_pred = convert_to_int(y_pred)\n",
    "    \n",
    "    for i in range(len(y_true)):\n",
    "        is_same = (y_true[i] == y_pred[i])\n",
    "        output.append(int(is_same))\n",
    "        \n",
    "    return sum(output)/len(output)\n",
    "\n",
    "def output(pred):\n",
    "    pred = convert_to_output(pred)\n",
    "    \n",
    "    output = pd.DataFrame({\"id\": range(len(pred)),\n",
    "                           \"Category\": pred})\n",
    "    \n",
    "    return output"
   ]
  },
  {
   "cell_type": "code",
   "execution_count": 22,
   "metadata": {},
   "outputs": [],
   "source": [
    "def validation_acc(valid_dataset, val_ans):\n",
    "    try_thre = [-0.9 + 0.1 * i for i in range(19)]\n",
    "    acc_list = []\n",
    "    \n",
    "    val_pred = test(valid_dataset)\n",
    "    \n",
    "    for i in try_thre:\n",
    "        val_pred_thres = cut_thres(val_pred, i)\n",
    "        acc_list.append(cal_acc(val_ans, val_pred_thres))\n",
    "    \n",
    "    print(\"Validation Acc: \", max(acc_list))\n",
    "    \n",
    "    return max(acc_list)"
   ]
  },
  {
   "cell_type": "markdown",
   "metadata": {},
   "source": [
    "# Checkpoint"
   ]
  },
  {
   "cell_type": "code",
   "execution_count": 23,
   "metadata": {},
   "outputs": [
    {
     "name": "stdout",
     "output_type": "stream",
     "text": [
      "Resume training from epoch 100\n"
     ]
    }
   ],
   "source": [
    "last_ckp = tf.train.latest_checkpoint(PATH_CKPTS)\n",
    "start_epoch = 0\n",
    "\n",
    "if last_ckp:\n",
    "    ckpt = tf.train.Checkpoint(optimizer=optimizer, cnn_net=cnn_net, pred_net = pred_net)\n",
    "    ckpt.restore(last_ckp)\n",
    "    start_epoch = int(last_ckp.split(\"-\")[-1])\n",
    "\n",
    "print(f'Resume training from epoch {start_epoch}') "
   ]
  },
  {
   "cell_type": "code",
   "execution_count": 24,
   "metadata": {},
   "outputs": [],
   "source": [
    "ckpt = tf.train.Checkpoint(optimizer=optimizer, cnn_net=cnn_net, pred_net = pred_net)\n",
    "\n",
    "manager = tf.train.CheckpointManager(ckpt, PATH_CKPTS, max_to_keep=25,\n",
    "                                     checkpoint_name=checkpoint_name)"
   ]
  },
  {
   "cell_type": "markdown",
   "metadata": {},
   "source": [
    "# Training"
   ]
  },
  {
   "cell_type": "code",
   "execution_count": null,
   "metadata": {},
   "outputs": [
    {
     "name": "stdout",
     "output_type": "stream",
     "text": [
      "Epoch: 101\n"
     ]
    }
   ],
   "source": [
    "loss_hist = {}\n",
    "val_hist = {}\n",
    "\n",
    "for i in range(start_epoch, EPOCHS):\n",
    "    epoch = i + 1\n",
    "    total_loss_list = []\n",
    "    start = time.time()\n",
    "    \n",
    "    print(\"Epoch:\", epoch)\n",
    "    \n",
    "    for tar, can, ans in ds_train:\n",
    "        tmp_loss = train_step(tar, can, ans)\n",
    "        # print(\"Current loss: {}\".format(tmp_loss),end=\"\\r\")\n",
    "        total_loss_list.append(tmp_loss)\n",
    "        \n",
    "    if epoch % CV_every == 0:\n",
    "        val_acc = validation_acc(ds_valid, val_ans)\n",
    "        val_hist[epoch] = val_acc\n",
    "        \n",
    "    print(\"Cross Entropy Loss: {}\".format(np.mean(total_loss_list)))\n",
    "    print('Time for epoch {} is {} sec\\n'.format(epoch, time.time()-start))\n",
    "    \n",
    "    if epoch % SAVE_every == 0:\n",
    "        manager.save(checkpoint_number=epoch)\n",
    "        \n",
    "    loss_hist[epoch] = np.mean(total_loss_list)"
   ]
  },
  {
   "cell_type": "code",
   "execution_count": 26,
   "metadata": {},
   "outputs": [
    {
     "data": {
      "image/png": "[encoded data removed]",
      "text/plain": [
       "<Figure size 432x288 with 1 Axes>"
      ]
     },
     "metadata": {
      "needs_background": "light"
     },
     "output_type": "display_data"
    },
    {
     "data": {
      "image/png": "[encoded data removed]",
      "text/plain": [
       "<Figure size 432x288 with 1 Axes>"
      ]
     },
     "metadata": {
      "needs_background": "light"
     },
     "output_type": "display_data"
    }
   ],
   "source": [
    "plt.plot(list(loss_hist.keys()), list(loss_hist.values()))\n",
    "plt.show()\n",
    "\n",
    "plt.plot(list(val_hist.keys()), list(val_hist.values()))\n",
    "plt.show()"
   ]
  },
  {
   "cell_type": "code",
   "execution_count": 27,
   "metadata": {},
   "outputs": [
    {
     "data": {
      "text/plain": [
       "{105: 0.77783203125,\n",
       " 110: 0.7791015625,\n",
       " 115: 0.794921875,\n",
       " 120: 0.78291015625,\n",
       " 125: 0.7833984375,\n",
       " 130: 0.783203125}"
      ]
     },
     "execution_count": 27,
     "metadata": {},
     "output_type": "execute_result"
    }
   ],
   "source": [
    "val_hist"
   ]
  },
  {
   "cell_type": "markdown",
   "metadata": {},
   "source": [
    "# Validatoin and Testing"
   ]
  },
  {
   "cell_type": "code",
   "execution_count": 29,
   "metadata": {},
   "outputs": [
    {
     "name": "stdout",
     "output_type": "stream",
     "text": [
      "Resume training from epoch 115\n"
     ]
    }
   ],
   "source": [
    "last_ckp = PATH_CKPTS + \"16_resnet_cross-115\" # tf.train.latest_checkpoint(PATH_CKPTS)\n",
    "start_epoch = 0\n",
    "\n",
    "if last_ckp:\n",
    "    ckpt = tf.train.Checkpoint(optimizer=optimizer, cnn_net=cnn_net, pred_net = pred_net)\n",
    "    ckpt.restore(last_ckp)\n",
    "    start_epoch = int(last_ckp.split(\"-\")[-1])\n",
    "\n",
    "print(f'Resume training from epoch {start_epoch}') "
   ]
  },
  {
   "cell_type": "code",
   "execution_count": 30,
   "metadata": {},
   "outputs": [],
   "source": [
    "val_pred = test(ds_valid)"
   ]
  },
  {
   "cell_type": "code",
   "execution_count": 47,
   "metadata": {},
   "outputs": [],
   "source": [
    "COSINE_THRE = 0.21"
   ]
  },
  {
   "cell_type": "code",
   "execution_count": 48,
   "metadata": {},
   "outputs": [
    {
     "name": "stdout",
     "output_type": "stream",
     "text": [
      "Validation Acc:  0.7951171875\n"
     ]
    }
   ],
   "source": [
    "val_pred_thres = cut_thres(val_pred, 0.21)\n",
    "val_acc = cal_acc(val_ans, val_pred_thres)\n",
    "print(\"Validation Acc: \", val_acc)"
   ]
  },
  {
   "cell_type": "code",
   "execution_count": 49,
   "metadata": {},
   "outputs": [],
   "source": [
    "te_pred = test(ds_test)"
   ]
  },
  {
   "cell_type": "code",
   "execution_count": 50,
   "metadata": {},
   "outputs": [],
   "source": [
    "te_pred_thres = cut_thres(te_pred, COSINE_THRE)\n",
    "output_df = output(te_pred_thres)"
   ]
  },
  {
   "cell_type": "code",
   "execution_count": 51,
   "metadata": {},
   "outputs": [],
   "source": [
    "output_df.to_csv(\"../output/{}_{}.csv\".format(checkpoint_name, start_epoch), index=False)"
   ]
  },
  {
   "cell_type": "code",
   "execution_count": null,
   "metadata": {},
   "outputs": [],
   "source": []
  },
  {
   "cell_type": "code",
   "execution_count": null,
   "metadata": {},
   "outputs": [],
   "source": []
  }
 ],
 "metadata": {
  "kernelspec": {
   "display_name": "Python 3",
   "language": "python",
   "name": "python3"
  },
  "language_info": {
   "codemirror_mode": {
    "name": "ipython",
    "version": 3
   },
   "file_extension": ".py",
   "mimetype": "text/x-python",
   "name": "python",
   "nbconvert_exporter": "python",
   "pygments_lexer": "ipython3",
   "version": "3.7.3"
  }
 },
 "nbformat": 4,
 "nbformat_minor": 4
}
