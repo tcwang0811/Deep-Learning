{
 "cells": [
  {
   "cell_type": "markdown",
   "metadata": {},
   "source": [
    "# 深度學習第四次競賽報告 - 第12組 工具人智慧\n",
    "組員：\n",
    "<br/>107024501 高瑀鍹\n",
    "<br/>107024506 王子誠\n",
    "<br/>107024511 羅揚\n",
    "<br/>107024522 戴子翔"
   ]
  },
  {
   "cell_type": "markdown",
   "metadata": {},
   "source": [
    "# Task 2"
   ]
  },
  {
   "cell_type": "markdown",
   "metadata": {},
   "source": [
    "## Data Preprocessing and Augmentation\n",
    "\n",
    "Task II 與Task I 不同的是----圖片增加了背景色且相同物體可能搭配了隨機的顏色，若利用Task I 相同的手法進行資料處理，一定不會得到相當高的準確率。因此，我們在資料前處理時，將圖片轉成灰階，利用捕捉物體的輪廓來進行圖形相似度的判斷，其中也嘗試將圖片做旋轉與翻轉的方式，讓相同物品更容易被判斷出來。"
   ]
  },
  {
   "cell_type": "markdown",
   "metadata": {},
   "source": [
    "## Model Architecture and Loss Function\n",
    "\n",
    "在建構模型與訓練資料的部分，我們主要參考Gregory Koch et al.(2015)的文獻----Siamese Neural Networks for One-shot Image Recognition中的想法。主要架構是先建立一套cnn，將target與candidate的圖片通過已建立的cnn後，得到兩條Fully connected(間單來說，就是分別得到兩張圖片的features)，接著將兩條Fully connected相減取絕對值後，再利用簡單的Dense layers與sigmoid函數得到\"一個\"預測值，該預測值就是作為判斷圖片像與不像的依據。\n",
    "\n",
    "接著，我們利用binary cross entropy來定義loss function，可以這樣定義的原因在於我們在模型架構上，最終將layers送回一個值且該值界在0~1之間，因此在loss方面具有合理性。"
   ]
  },
  {
   "cell_type": "markdown",
   "metadata": {},
   "source": [
    "## Training\n",
    "\n",
    "在模型訓練上，我們利用validation的準確率來決定threshold應選在何處，之所以要選擇threshold的原因在於，我們在判斷1張照片(target)與9張照片(candidate)的相同度時，要整題全對才算正確，且sigmoid後的結果(值界在0~1)一定會有一個數值來區分相同與不相同，該值就是所謂的threshold。最後，validation準確度可到79.5%。"
   ]
  }
 ],
 "metadata": {
  "kernelspec": {
   "display_name": "Python 3",
   "language": "python",
   "name": "python3"
  },
  "language_info": {
   "codemirror_mode": {
    "name": "ipython",
    "version": 3
   },
   "file_extension": ".py",
   "mimetype": "text/x-python",
   "name": "python",
   "nbconvert_exporter": "python",
   "pygments_lexer": "ipython3",
   "version": "3.7.3"
  }
 },
 "nbformat": 4,
 "nbformat_minor": 2
}
