{
 "cells": [
  {
   "cell_type": "code",
   "execution_count": 1,
   "metadata": {},
   "outputs": [],
   "source": [
    "import tensorflow as tf\n",
    "import numpy as np\n",
    "\n",
    "import pandas as pd\n",
    "\n",
    "import time\n",
    "\n",
    "import matplotlib.pyplot as plt"
   ]
  },
  {
   "cell_type": "code",
   "execution_count": 2,
   "metadata": {},
   "outputs": [
    {
     "name": "stdout",
     "output_type": "stream",
     "text": [
      "3 Physical GPUs, 1 Logical GPUs\n"
     ]
    }
   ],
   "source": [
    "gpus = tf.config.experimental.list_physical_devices('GPU')\n",
    "if gpus:\n",
    "    try:\n",
    "        # Restrict TensorFlow to only use the fourth GPU\n",
    "        tf.config.experimental.set_visible_devices(gpus[0], 'GPU')\n",
    "\n",
    "        # Currently, memory growth needs to be the same across GPUs\n",
    "        for gpu in gpus:\n",
    "            tf.config.experimental.set_memory_growth(gpu, True)\n",
    "        logical_gpus = tf.config.experimental.list_logical_devices('GPU')\n",
    "        print(len(gpus), \"Physical GPUs,\", len(logical_gpus), \"Logical GPUs\")\n",
    "    except RuntimeError as e:\n",
    "        # Memory growth must be set before GPUs have been initialized\n",
    "        print(e)"
   ]
  },
  {
   "cell_type": "code",
   "execution_count": 3,
   "metadata": {},
   "outputs": [],
   "source": [
    "BATCH_SIZE = 32\n",
    "IMG_H, IMG_W = 224, 224\n",
    "BUFFER_SIZE = 3000"
   ]
  },
  {
   "cell_type": "markdown",
   "metadata": {},
   "source": [
    "## 設定路徑"
   ]
  },
  {
   "cell_type": "code",
   "execution_count": 4,
   "metadata": {},
   "outputs": [],
   "source": [
    "PATH_TO_DATA = \"../Comp4/task3/data/\"\n",
    "PATH_CKPTS = \"../Comp4/task3/ckpts/11_encoder_128/\"\n",
    "\n",
    "checkpoint_name = \"11_encoder_128\""
   ]
  },
  {
   "cell_type": "code",
   "execution_count": 5,
   "metadata": {},
   "outputs": [],
   "source": [
    "MARGIN_C = 1.2\n",
    "LEARNING_RATE = 1e-4\n",
    "EPOCHS = 135\n",
    "\n",
    "CV_every = 5\n",
    "SAVE_every = 5"
   ]
  },
  {
   "cell_type": "code",
   "execution_count": 6,
   "metadata": {},
   "outputs": [],
   "source": [
    "aug_p = 0.9\n",
    "\n",
    "up_down_flip_p = 0.25\n",
    "left_right_flip_p = 0.5\n",
    "rot_p = 0.5"
   ]
  },
  {
   "cell_type": "code",
   "execution_count": 7,
   "metadata": {},
   "outputs": [],
   "source": [
    "def impute_answer(text):\n",
    "    assert len(text) <= 9\n",
    "    \n",
    "    if len(text) == 9:\n",
    "        return text\n",
    "    \n",
    "    need_char = 9 - len(text)\n",
    "    return (\"0\" * need_char) + text\n",
    "\n",
    "def get_q_a(folder, is_get_answer):\n",
    "    tr_q = np.genfromtxt(PATH_TO_DATA + folder + \"q.csv\", delimiter=',').astype(np.int32).astype(str)\n",
    "\n",
    "    tr_target = tr_q[:,0]\n",
    "    tr_target = np.expand_dims(tr_target, 1)\n",
    "    tr_target = np.repeat(tr_target, 9, axis=1)\n",
    "\n",
    "    tr_candidate = tr_q[:,1:]\n",
    "\n",
    "    if is_get_answer:\n",
    "        tr_a = np.genfromtxt(PATH_TO_DATA + folder + \"a.csv\", delimiter=',').astype(np.int32).astype(str)    \n",
    "        ans = []\n",
    "        for i in range(tr_a.shape[0]):\n",
    "            ans.append(list(impute_answer(tr_a[i, 1])))\n",
    "\n",
    "        ans = np.asarray(ans).astype(np.int32)\n",
    "        \n",
    "        return tr_target, tr_candidate, ans\n",
    "    else:\n",
    "        return tr_target, tr_candidate"
   ]
  },
  {
   "cell_type": "code",
   "execution_count": 8,
   "metadata": {},
   "outputs": [],
   "source": [
    "@tf.function\n",
    "def image_preprocess(folder, img_name):\n",
    "    img = tf.io.read_file(PATH_TO_DATA + folder + img_name + \".png\")\n",
    "    img = tf.image.decode_image(img, channels=3)\n",
    "    img.set_shape([IMG_H, IMG_W, 3])\n",
    "    img = tf.cast(img, tf.float32)\n",
    "    \n",
    "    img = tf.image.rgb_to_grayscale(img)\n",
    "    \n",
    "    img = tf.image.resize(img, size=[64, 64])\n",
    "    \n",
    "    img = img / 255\n",
    "    \n",
    "    return img"
   ]
  },
  {
   "cell_type": "code",
   "execution_count": 9,
   "metadata": {},
   "outputs": [],
   "source": [
    "@tf.function\n",
    "def random_flip(image):\n",
    "    up_down_outcome = tf.random.uniform([1], 0, 1)\n",
    "    right_left_outcome = tf.random.uniform([1], 0, 1)\n",
    "\n",
    "    if up_down_outcome<up_down_flip_p:\n",
    "        image = tf.image.flip_up_down(image)\n",
    "\n",
    "    if right_left_outcome<left_right_flip_p:\n",
    "        image = tf.image.flip_left_right(image)\n",
    "\n",
    "    return image\n",
    "\n",
    "@tf.function\n",
    "def random_rot90(image):\n",
    "    prob = tf.random.uniform([1],0,1)\n",
    "    \n",
    "    if prob < (rot_p/2):\n",
    "        image = tf.image.rot90(image)\n",
    "    elif (prob >= (rot_p/2)) and (prob < rot_p):\n",
    "        image = tf.image.rot90(image, k=2)   \n",
    "        \n",
    "    return image\n",
    "\n",
    "@tf.function\n",
    "def image_augmentation(img):\n",
    "    aug_sample = tf.random.uniform([1],0,1)\n",
    "    \n",
    "    if aug_sample < aug_p:\n",
    "        img = random_flip(img)\n",
    "        img = random_rot90(img)\n",
    "    \n",
    "    return img"
   ]
  },
  {
   "cell_type": "code",
   "execution_count": 10,
   "metadata": {},
   "outputs": [],
   "source": [
    "tr_target, tr_candidate, tr_ans = get_q_a(\"s3_train/\", is_get_answer=True)\n",
    "val_target, val_candidate, val_ans = get_q_a(\"s3_valid/\", is_get_answer=True)\n",
    "te_target, te_candidate = get_q_a(\"s3_test/\", is_get_answer=False)"
   ]
  },
  {
   "cell_type": "markdown",
   "metadata": {},
   "source": [
    "# Dataset"
   ]
  },
  {
   "cell_type": "code",
   "execution_count": 11,
   "metadata": {},
   "outputs": [],
   "source": [
    "class ds_train_generator(object):\n",
    "    def __init__(self, target, candidate, answer, ds_folder):\n",
    "        self.target = target[:, 0]\n",
    "        self.candidate = candidate\n",
    "        self.answer = answer\n",
    "        self.ds_folder = ds_folder\n",
    "        \n",
    "    def preprocessing(self, target, candidate, answer):\n",
    "        img_target = image_preprocess(self.ds_folder, target)\n",
    "        \n",
    "        qq = tf.random.uniform((), 0, 9)\n",
    "        sample_idx = tf.cast(qq, tf.int32)\n",
    "        sampled_candidate = tf.gather(candidate, sample_idx, axis=0)\n",
    "        sampled_answer = tf.gather(answer, sample_idx, axis=0)\n",
    "        \n",
    "        img_candidate = image_preprocess(self.ds_folder, sampled_candidate)\n",
    "        answer = tf.cast(sampled_answer, tf.float32)\n",
    "        \n",
    "        img_target = image_augmentation(img_target)\n",
    "        img_candidate = image_augmentation(img_candidate)\n",
    "        \n",
    "        return img_target, img_candidate, answer\n",
    "        \n",
    "    def generate(self):\n",
    "        dataset = tf.data.Dataset.from_tensor_slices((self.target,\n",
    "                                                      self.candidate,\n",
    "                                                      self.answer))\n",
    "        dataset = dataset.map(self.preprocessing, num_parallel_calls=tf.data.experimental.AUTOTUNE)\n",
    "        dataset = dataset.shuffle(BUFFER_SIZE).batch(BATCH_SIZE)\n",
    "        dataset = dataset.prefetch(buffer_size=tf.data.experimental.AUTOTUNE)\n",
    "        \n",
    "        return dataset"
   ]
  },
  {
   "cell_type": "code",
   "execution_count": 12,
   "metadata": {},
   "outputs": [],
   "source": [
    "class ds_test_generator(object):\n",
    "    def __init__(self, target, candidate, ds_folder):\n",
    "        self.target = target.flatten()\n",
    "        self.candidate = candidate.flatten()\n",
    "        self.ds_folder = ds_folder\n",
    "        \n",
    "    def preprocessing(self, target, candidate):\n",
    "        img_target = image_preprocess(self.ds_folder, target)\n",
    "        img_candidate = image_preprocess(self.ds_folder, candidate)\n",
    "        \n",
    "        return img_target, img_candidate\n",
    "        \n",
    "    def generate(self):\n",
    "        dataset = tf.data.Dataset.from_tensor_slices((self.target, self.candidate))\n",
    "        dataset = dataset.map(self.preprocessing, num_parallel_calls=tf.data.experimental.AUTOTUNE)\n",
    "        dataset = dataset.batch(BATCH_SIZE)\n",
    "        dataset = dataset.prefetch(buffer_size=tf.data.experimental.AUTOTUNE)\n",
    "        \n",
    "        return dataset"
   ]
  },
  {
   "cell_type": "code",
   "execution_count": 13,
   "metadata": {},
   "outputs": [],
   "source": [
    "ds_train_gen = ds_train_generator(tr_target, tr_candidate, tr_ans, \"s3_train_image/\")\n",
    "ds_train = ds_train_gen.generate()"
   ]
  },
  {
   "cell_type": "code",
   "execution_count": 14,
   "metadata": {},
   "outputs": [],
   "source": [
    "ds_valid_gen = ds_test_generator(val_target, val_candidate, \"s3_valid_image/\")\n",
    "ds_valid = ds_valid_gen.generate()\n",
    "\n",
    "ds_test_gen = ds_test_generator(te_target, te_candidate, \"s3_test_image/\")\n",
    "ds_test = ds_test_gen.generate()"
   ]
  },
  {
   "cell_type": "markdown",
   "metadata": {},
   "source": [
    "# Model and Loss"
   ]
  },
  {
   "cell_type": "code",
   "execution_count": 15,
   "metadata": {},
   "outputs": [],
   "source": [
    "# pre_trained_model = tf.keras.applications.resnet50.ResNet50(include_top=False,\n",
    "#                                                             weights='imagenet',\n",
    "#                                                             input_shape=(IMG_H, IMG_W, 3))\n",
    "# pre_trained_model.trainable=False"
   ]
  },
  {
   "cell_type": "code",
   "execution_count": 16,
   "metadata": {},
   "outputs": [],
   "source": [
    "class siamese_net(tf.keras.Model):\n",
    "    def __init__(self):\n",
    "        super(siamese_net, self).__init__()\n",
    "        self.df_dim = 128\n",
    "        self.t_dim = 128\n",
    "        \n",
    "        self.net_h0_conv2d = tf.keras.layers.Conv2D(self.df_dim, 4, 2, padding='SAME',use_bias=True,\n",
    "                                                    kernel_initializer= tf.random_normal_initializer(stddev=0.02))\n",
    "        self.net_h1_conv2d = tf.keras.layers.Conv2D(self.df_dim*2, 4, 2, padding='SAME',use_bias=True,\n",
    "                                                    kernel_initializer= tf.random_normal_initializer(stddev=0.02))\n",
    "        self.bn1 = tf.keras.layers.BatchNormalization()\n",
    "        \n",
    "        self.net_h2_conv2d = tf.keras.layers.Conv2D(self.df_dim*4, 4, 2, padding='SAME',use_bias=True,\n",
    "                                                    kernel_initializer= tf.random_normal_initializer(stddev=0.02))\n",
    "        self.bn2 = tf.keras.layers.BatchNormalization()\n",
    "        \n",
    "        self.net_h3_conv2d = tf.keras.layers.Conv2D(self.df_dim*8, 4, 2, padding='SAME',use_bias=True,\n",
    "                                                    kernel_initializer= tf.random_normal_initializer(stddev=0.02))\n",
    "        self.bn3 = tf.keras.layers.BatchNormalization()\n",
    "\n",
    "        self.net_h4_flat = tf.keras.layers.Flatten()\n",
    "        self.net_h4_fc = tf.keras.layers.Dense(self.t_dim, use_bias=False,\n",
    "                                               kernel_initializer= tf.random_normal_initializer(stddev=0.02))\n",
    "\n",
    "    def call(self, inputs):\n",
    "        net_h0 = self.net_h0_conv2d(inputs)\n",
    "        net_h0 = tf.nn.leaky_relu(net_h0)\n",
    "        \n",
    "        net_h1 = self.net_h1_conv2d(net_h0)\n",
    "        net_h1 = self.bn1(net_h1)\n",
    "        net_h1 = tf.nn.leaky_relu(net_h1)\n",
    "\n",
    "        net_h2 = self.net_h2_conv2d(net_h1)\n",
    "        net_h2 = self.bn2(net_h2)\n",
    "        net_h2 = tf.nn.leaky_relu(net_h2)\n",
    "\n",
    "        net_h3 = self.net_h3_conv2d(net_h2)\n",
    "        net_h3 = self.bn3(net_h3)\n",
    "        net_h3 = tf.nn.leaky_relu(net_h3)\n",
    "\n",
    "        net_h4 = self.net_h4_flat(net_h3)\n",
    "        net_h4 = self.net_h4_fc(net_h4)\n",
    "\n",
    "        outputs = net_h4\n",
    "\n",
    "        return outputs"
   ]
  },
  {
   "cell_type": "code",
   "execution_count": 17,
   "metadata": {},
   "outputs": [],
   "source": [
    "def cosine_similarity(v1, v2):\n",
    "    cost = tf.reduce_sum(tf.multiply(v1, v2), 1) / (tf.sqrt(tf.reduce_sum(tf.multiply(v1, v1), 1)) * tf.sqrt(tf.reduce_sum(tf.multiply(v2, v2), 1)))\n",
    "    return cost"
   ]
  },
  {
   "cell_type": "code",
   "execution_count": 18,
   "metadata": {},
   "outputs": [],
   "source": [
    "@tf.function\n",
    "def contrastive_loss(target, candidate, answer):\n",
    "    distance = tf.sqrt(2 - 2 * cosine_similarity(target, candidate))\n",
    "    # distance = tf.sqrt(tf.reduce_sum((target - candidate)**2, 1, keepdims=True))\n",
    "    similarity = answer * tf.square(distance)\n",
    "    dissimilarity = (1-answer) * tf.square(tf.maximum((MARGIN_C - distance), 0))\n",
    "    return tf.reduce_mean(similarity + dissimilarity)\n",
    "\n",
    "@tf.function\n",
    "def cosine_loss(target, candidate, answer):\n",
    "    cosine = tf.keras.losses.cosine_similarity(target, candidate)\n",
    "    output = (answer * cosine) + ((1-answer) * (cosine * (-1)))\n",
    "    \n",
    "    return tf.reduce_mean(output)"
   ]
  },
  {
   "cell_type": "code",
   "execution_count": 19,
   "metadata": {},
   "outputs": [],
   "source": [
    "SIAMESE = siamese_net()\n",
    "optimizer = tf.keras.optimizers.Adam(LEARNING_RATE)"
   ]
  },
  {
   "cell_type": "markdown",
   "metadata": {},
   "source": [
    "# Step"
   ]
  },
  {
   "cell_type": "code",
   "execution_count": 20,
   "metadata": {},
   "outputs": [],
   "source": [
    "@tf.function\n",
    "def train_step(target, candidate, answer):\n",
    "    with tf.GradientTape() as tape:\n",
    "        target_output = SIAMESE(target)\n",
    "        candidate_output = SIAMESE(candidate)\n",
    "        loss = contrastive_loss(target_output, candidate_output, answer)\n",
    "        # loss = cosine_loss(target_output, candidate_output, answer)\n",
    "    \n",
    "    grads = tape.gradient(loss, SIAMESE.trainable_variables)\n",
    "    optimizer.apply_gradients(zip(grads, SIAMESE.trainable_variables))\n",
    "    \n",
    "    return loss"
   ]
  },
  {
   "cell_type": "code",
   "execution_count": 21,
   "metadata": {},
   "outputs": [],
   "source": [
    "@tf.function\n",
    "def test_step(target, candidate):\n",
    "    target_output = SIAMESE(target)\n",
    "    candidate_output = SIAMESE(candidate)\n",
    "    \n",
    "    return cosine_similarity(target_output, candidate_output)"
   ]
  },
  {
   "cell_type": "code",
   "execution_count": 22,
   "metadata": {},
   "outputs": [],
   "source": [
    "def test(dataset):\n",
    "    out = []\n",
    "\n",
    "    for t, c in dataset:\n",
    "        curr = test_step(t, c)\n",
    "        out.extend(curr.numpy().tolist())\n",
    "        \n",
    "    out = np.asarray(out)\n",
    "    out = np.reshape(out, (-1,9))\n",
    "    \n",
    "    return out\n",
    "\n",
    "def cut_thres(y_pred, thres):\n",
    "    y_pred = (y_pred > thres).astype(np.int32)\n",
    "    \n",
    "    return y_pred\n",
    "\n",
    "def convert_to_int(y):\n",
    "    output = []\n",
    "    y = y.astype(str).tolist()\n",
    "    \n",
    "    for i in range(len(y)):\n",
    "        output.append(int(\"\".join(y[i])))\n",
    "        \n",
    "    return output\n",
    "\n",
    "def convert_to_output(y):\n",
    "    output = []\n",
    "    y = y.astype(str).tolist()\n",
    "    \n",
    "    for i in range(len(y)):\n",
    "        output.append(\"\".join(y[i]))\n",
    "        \n",
    "    return output\n",
    "\n",
    "def cal_acc(y_true, y_pred):\n",
    "    output = []\n",
    "    y_true = convert_to_int(y_true)\n",
    "    y_pred = convert_to_int(y_pred)\n",
    "    \n",
    "    for i in range(len(y_true)):\n",
    "        is_same = (y_true[i] == y_pred[i])\n",
    "        output.append(int(is_same))\n",
    "        \n",
    "    return sum(output)/len(output)\n",
    "\n",
    "def output(pred):\n",
    "    pred = convert_to_output(pred)\n",
    "    \n",
    "    output = pd.DataFrame({\"id\": range(len(pred)),\n",
    "                           \"Category\": pred})\n",
    "    \n",
    "    return output"
   ]
  },
  {
   "cell_type": "code",
   "execution_count": 23,
   "metadata": {},
   "outputs": [],
   "source": [
    "def validation_acc(valid_dataset, val_ans):\n",
    "    try_thre = [0.5, 0.55, 0.6, 0.65, 0.7, 0.75, 0.8, 0.85, 0.9, 0.95]\n",
    "    acc_list = []\n",
    "    \n",
    "    val_pred = test(valid_dataset)\n",
    "    \n",
    "    for i in try_thre:\n",
    "        val_pred_thres = cut_thres(val_pred, i)\n",
    "        acc_list.append(cal_acc(val_ans, val_pred_thres))\n",
    "    \n",
    "    print(\"Validation Acc: \", max(acc_list))\n",
    "    \n",
    "    return max(acc_list)"
   ]
  },
  {
   "cell_type": "markdown",
   "metadata": {},
   "source": [
    "# Checkpoint"
   ]
  },
  {
   "cell_type": "code",
   "execution_count": 24,
   "metadata": {},
   "outputs": [
    {
     "name": "stdout",
     "output_type": "stream",
     "text": [
      "Resume training from epoch 85\n"
     ]
    }
   ],
   "source": [
    "last_ckp = PATH_CKPTS + \"11_encoder_128-85\" # tf.train.latest_checkpoint(PATH_CKPTS)\n",
    "start_epoch = 0\n",
    "\n",
    "if last_ckp:\n",
    "    ckpt = tf.train.Checkpoint(optimizer=optimizer, SIAMESE=SIAMESE)\n",
    "    ckpt.restore(last_ckp)\n",
    "    start_epoch = int(last_ckp.split(\"-\")[-1])\n",
    "\n",
    "print(f'Resume training from epoch {start_epoch}') "
   ]
  },
  {
   "cell_type": "code",
   "execution_count": 25,
   "metadata": {},
   "outputs": [],
   "source": [
    "ckpt = tf.train.Checkpoint(optimizer=optimizer, SIAMESE=SIAMESE)\n",
    "\n",
    "manager = tf.train.CheckpointManager(ckpt, PATH_CKPTS, max_to_keep=10,\n",
    "                                     checkpoint_name=checkpoint_name)"
   ]
  },
  {
   "cell_type": "markdown",
   "metadata": {},
   "source": [
    "# Train"
   ]
  },
  {
   "cell_type": "code",
   "execution_count": 26,
   "metadata": {},
   "outputs": [
    {
     "name": "stdout",
     "output_type": "stream",
     "text": [
      "Epoch: 86\n",
      "Contrastive Loss: 0.09612243622541428\n",
      "Time for epoch 86 is 76.23272848129272 sec\n",
      "\n",
      "Epoch: 87\n",
      "Contrastive Loss: 0.08867290616035461\n",
      "Time for epoch 87 is 81.613596200943 sec\n",
      "\n",
      "Epoch: 88\n",
      "Contrastive Loss: 0.08644314855337143\n",
      "Time for epoch 88 is 80.55378818511963 sec\n",
      "\n",
      "Epoch: 89\n",
      "Contrastive Loss: 0.08354023844003677\n",
      "Time for epoch 89 is 78.63443779945374 sec\n",
      "\n",
      "Epoch: 90\n",
      "Validation Acc:  0.66572265625\n",
      "Contrastive Loss: 0.08174730092287064\n",
      "Time for epoch 90 is 130.74514317512512 sec\n",
      "\n",
      "Epoch: 91\n",
      "Contrastive Loss: 0.07973670959472656\n",
      "Time for epoch 91 is 71.13163089752197 sec\n",
      "\n",
      "Epoch: 92\n",
      "Contrastive Loss: 0.07925071567296982\n",
      "Time for epoch 92 is 75.51593542098999 sec\n",
      "\n",
      "Epoch: 93\n",
      "Contrastive Loss: 0.07652071118354797\n",
      "Time for epoch 93 is 78.04085683822632 sec\n",
      "\n",
      "Epoch: 94\n",
      "Contrastive Loss: 0.07510177791118622\n",
      "Time for epoch 94 is 75.38638973236084 sec\n",
      "\n",
      "Epoch: 95\n",
      "Validation Acc:  0.6908203125\n",
      "Contrastive Loss: 0.07531435787677765\n",
      "Time for epoch 95 is 129.0820107460022 sec\n",
      "\n",
      "Epoch: 96\n",
      "Contrastive Loss: 0.07401590049266815\n",
      "Time for epoch 96 is 72.86758470535278 sec\n",
      "\n",
      "Epoch: 97\n",
      "Contrastive Loss: 0.07198065519332886\n",
      "Time for epoch 97 is 74.9153962135315 sec\n",
      "\n",
      "Epoch: 98\n",
      "Contrastive Loss: 0.0712500736117363\n",
      "Time for epoch 98 is 76.75165605545044 sec\n",
      "\n",
      "Epoch: 99\n",
      "Contrastive Loss: 0.07068631052970886\n",
      "Time for epoch 99 is 75.93921566009521 sec\n",
      "\n",
      "Epoch: 100\n",
      "Validation Acc:  0.68671875\n",
      "Contrastive Loss: 0.0697394460439682\n",
      "Time for epoch 100 is 128.677419424057 sec\n",
      "\n",
      "Epoch: 101\n",
      "Contrastive Loss: 0.0689578652381897\n",
      "Time for epoch 101 is 72.04150366783142 sec\n",
      "\n",
      "Epoch: 102\n",
      "Contrastive Loss: 0.0678841844201088\n",
      "Time for epoch 102 is 77.53715658187866 sec\n",
      "\n",
      "Epoch: 103\n",
      "Contrastive Loss: 0.06702642887830734\n",
      "Time for epoch 103 is 76.27431082725525 sec\n",
      "\n",
      "Epoch: 104\n",
      "Contrastive Loss: 0.06699852645397186\n",
      "Time for epoch 104 is 76.41230654716492 sec\n",
      "\n",
      "Epoch: 105\n",
      "Validation Acc:  0.69189453125\n",
      "Contrastive Loss: 0.06633903831243515\n",
      "Time for epoch 105 is 125.87710309028625 sec\n",
      "\n",
      "Epoch: 106\n",
      "Contrastive Loss: 0.06438738852739334\n",
      "Time for epoch 106 is 70.97492218017578 sec\n",
      "\n",
      "Epoch: 107\n",
      "Contrastive Loss: 0.06373259425163269\n",
      "Time for epoch 107 is 76.65386033058167 sec\n",
      "\n",
      "Epoch: 108\n",
      "Contrastive Loss: 0.0634392723441124\n",
      "Time for epoch 108 is 75.41464972496033 sec\n",
      "\n",
      "Epoch: 109\n",
      "Contrastive Loss: 0.06292592734098434\n",
      "Time for epoch 109 is 75.38993382453918 sec\n",
      "\n",
      "Epoch: 110\n",
      "Validation Acc:  0.68642578125\n",
      "Contrastive Loss: 0.06201959773898125\n",
      "Time for epoch 110 is 126.21320366859436 sec\n",
      "\n",
      "Epoch: 111\n",
      "Contrastive Loss: 0.0614597424864769\n",
      "Time for epoch 111 is 71.43648719787598 sec\n",
      "\n",
      "Epoch: 112\n",
      "Contrastive Loss: 0.06147954985499382\n",
      "Time for epoch 112 is 76.34920978546143 sec\n",
      "\n",
      "Epoch: 113\n",
      "Contrastive Loss: 0.06033637002110481\n",
      "Time for epoch 113 is 76.1883556842804 sec\n",
      "\n",
      "Epoch: 114\n",
      "Contrastive Loss: 0.060159340500831604\n",
      "Time for epoch 114 is 76.27204179763794 sec\n",
      "\n",
      "Epoch: 115\n",
      "Validation Acc:  0.67861328125\n",
      "Contrastive Loss: 0.05909969285130501\n",
      "Time for epoch 115 is 128.17047953605652 sec\n",
      "\n",
      "Epoch: 116\n",
      "Contrastive Loss: 0.05887880176305771\n",
      "Time for epoch 116 is 70.68527603149414 sec\n",
      "\n",
      "Epoch: 117\n",
      "Contrastive Loss: 0.058270882815122604\n",
      "Time for epoch 117 is 77.70737600326538 sec\n",
      "\n",
      "Epoch: 118\n",
      "Contrastive Loss: 0.057374268770217896\n",
      "Time for epoch 118 is 75.61247897148132 sec\n",
      "\n",
      "Epoch: 119\n",
      "Contrastive Loss: 0.05713865906000137\n",
      "Time for epoch 119 is 76.59173130989075 sec\n",
      "\n",
      "Epoch: 120\n",
      "Validation Acc:  0.68740234375\n",
      "Contrastive Loss: 0.0568089485168457\n",
      "Time for epoch 120 is 127.44882893562317 sec\n",
      "\n",
      "Epoch: 121\n",
      "Contrastive Loss: 0.05628638714551926\n",
      "Time for epoch 121 is 69.83494186401367 sec\n",
      "\n",
      "Epoch: 122\n",
      "Contrastive Loss: 0.0553133450448513\n",
      "Time for epoch 122 is 78.215891122818 sec\n",
      "\n",
      "Epoch: 123\n",
      "Contrastive Loss: 0.055769022554159164\n",
      "Time for epoch 123 is 77.29776763916016 sec\n",
      "\n",
      "Epoch: 124\n",
      "Contrastive Loss: 0.054881200194358826\n",
      "Time for epoch 124 is 77.61574530601501 sec\n",
      "\n",
      "Epoch: 125\n",
      "Validation Acc:  0.6787109375\n",
      "Contrastive Loss: 0.05440298095345497\n",
      "Time for epoch 125 is 128.3182017803192 sec\n",
      "\n",
      "Epoch: 126\n",
      "Contrastive Loss: 0.05356092378497124\n",
      "Time for epoch 126 is 73.07742094993591 sec\n",
      "\n",
      "Epoch: 127\n",
      "Contrastive Loss: 0.05371422693133354\n",
      "Time for epoch 127 is 77.48193430900574 sec\n",
      "\n",
      "Epoch: 128\n",
      "Contrastive Loss: 0.053476475179195404\n",
      "Time for epoch 128 is 77.44203448295593 sec\n",
      "\n",
      "Epoch: 129\n",
      "Contrastive Loss: 0.05277063325047493\n",
      "Time for epoch 129 is 76.98133826255798 sec\n",
      "\n",
      "Epoch: 130\n",
      "Validation Acc:  0.70009765625\n",
      "Contrastive Loss: 0.05190913751721382\n",
      "Time for epoch 130 is 129.84070253372192 sec\n",
      "\n",
      "Epoch: 131\n",
      "Contrastive Loss: 0.05091621354222298\n",
      "Time for epoch 131 is 74.1010365486145 sec\n",
      "\n",
      "Epoch: 132\n",
      "Contrastive Loss: 0.05142984911799431\n",
      "Time for epoch 132 is 77.43020534515381 sec\n",
      "\n",
      "Epoch: 133\n",
      "Contrastive Loss: 0.05136876925826073\n",
      "Time for epoch 133 is 75.20626592636108 sec\n",
      "\n",
      "Epoch: 134\n",
      "Contrastive Loss: 0.050937652587890625\n",
      "Time for epoch 134 is 77.81651902198792 sec\n",
      "\n",
      "Epoch: 135\n",
      "Validation Acc:  0.67841796875\n",
      "Contrastive Loss: 0.05009260028600693\n",
      "Time for epoch 135 is 127.00644588470459 sec\n",
      "\n"
     ]
    }
   ],
   "source": [
    "loss_hist = {}\n",
    "val_hist = {}\n",
    "\n",
    "for i in range(start_epoch, EPOCHS):\n",
    "    epoch = i + 1\n",
    "    total_loss = []\n",
    "    start = time.time()\n",
    "    \n",
    "    print(\"Epoch:\", epoch)\n",
    "    \n",
    "    for tar, can, ans in ds_train:\n",
    "        tmp_loss = train_step(tar, can, ans)\n",
    "        # print(\"Current loss: {}\".format(tmp_loss),end=\"\\r\")\n",
    "        total_loss.append(tmp_loss)\n",
    "        \n",
    "    if epoch % CV_every == 0:\n",
    "        val_acc = validation_acc(ds_valid, val_ans)\n",
    "        val_hist[epoch] = val_acc\n",
    "        \n",
    "    print(\"Contrastive Loss: {}\".format(np.mean(total_loss)))\n",
    "    print('Time for epoch {} is {} sec\\n'.format(epoch, time.time()-start))\n",
    "    \n",
    "    if epoch % SAVE_every == 0:\n",
    "        manager.save(checkpoint_number=epoch)\n",
    "        \n",
    "    loss_hist[epoch] = np.mean(total_loss)"
   ]
  },
  {
   "cell_type": "code",
   "execution_count": 27,
   "metadata": {},
   "outputs": [
    {
     "data": {
      "image/png": "[encoded data removed]",
      "text/plain": [
       "<Figure size 432x288 with 1 Axes>"
      ]
     },
     "metadata": {
      "needs_background": "light"
     },
     "output_type": "display_data"
    },
    {
     "data": {
      "image/png": "[encoded data removed]",
      "text/plain": [
       "<Figure size 432x288 with 1 Axes>"
      ]
     },
     "metadata": {
      "needs_background": "light"
     },
     "output_type": "display_data"
    }
   ],
   "source": [
    "plt.plot(list(loss_hist.keys()), list(loss_hist.values()))\n",
    "plt.show()\n",
    "\n",
    "plt.plot(list(val_hist.keys()), list(val_hist.values()))\n",
    "plt.show()"
   ]
  },
  {
   "cell_type": "code",
   "execution_count": 28,
   "metadata": {},
   "outputs": [
    {
     "data": {
      "text/plain": [
       "{90: 0.66572265625,\n",
       " 95: 0.6908203125,\n",
       " 100: 0.68671875,\n",
       " 105: 0.69189453125,\n",
       " 110: 0.68642578125,\n",
       " 115: 0.67861328125,\n",
       " 120: 0.68740234375,\n",
       " 125: 0.6787109375,\n",
       " 130: 0.70009765625,\n",
       " 135: 0.67841796875}"
      ]
     },
     "execution_count": 28,
     "metadata": {},
     "output_type": "execute_result"
    }
   ],
   "source": [
    "val_hist"
   ]
  },
  {
   "cell_type": "markdown",
   "metadata": {},
   "source": [
    "# Validatoin and Testing"
   ]
  },
  {
   "cell_type": "code",
   "execution_count": 29,
   "metadata": {},
   "outputs": [
    {
     "name": "stdout",
     "output_type": "stream",
     "text": [
      "Resume training from epoch 130\n"
     ]
    }
   ],
   "source": [
    "last_ckp = PATH_CKPTS + \"11_encoder_128-130\" # tf.train.latest_checkpoint(PATH_CKPTS)\n",
    "start_epoch = 0\n",
    "\n",
    "if last_ckp:\n",
    "    ckpt = tf.train.Checkpoint(optimizer=optimizer, SIAMESE=SIAMESE)\n",
    "    ckpt.restore(last_ckp)\n",
    "    start_epoch = int(last_ckp.split(\"-\")[-1])\n",
    "\n",
    "print(f'Resume training from epoch {start_epoch}') "
   ]
  },
  {
   "cell_type": "code",
   "execution_count": 30,
   "metadata": {},
   "outputs": [],
   "source": [
    "val_pred = test(ds_valid)"
   ]
  },
  {
   "cell_type": "code",
   "execution_count": 51,
   "metadata": {},
   "outputs": [],
   "source": [
    "COSINE_THRE = 0.81"
   ]
  },
  {
   "cell_type": "code",
   "execution_count": 52,
   "metadata": {},
   "outputs": [
    {
     "name": "stdout",
     "output_type": "stream",
     "text": [
      "Validation Acc:  0.701953125\n"
     ]
    }
   ],
   "source": [
    "val_pred_thres = cut_thres(val_pred, 0.81)\n",
    "val_acc = cal_acc(val_ans, val_pred_thres)\n",
    "print(\"Validation Acc: \", val_acc)"
   ]
  },
  {
   "cell_type": "code",
   "execution_count": 53,
   "metadata": {},
   "outputs": [],
   "source": [
    "te_pred = test(ds_test)"
   ]
  },
  {
   "cell_type": "code",
   "execution_count": 54,
   "metadata": {},
   "outputs": [],
   "source": [
    "te_pred_thres = cut_thres(te_pred, COSINE_THRE)\n",
    "output_df = output(te_pred_thres)"
   ]
  },
  {
   "cell_type": "code",
   "execution_count": 55,
   "metadata": {},
   "outputs": [],
   "source": [
    "output_df.to_csv(\"../output/{}_{}.csv\".format(checkpoint_name, start_epoch), index=False)"
   ]
  },
  {
   "cell_type": "code",
   "execution_count": null,
   "metadata": {},
   "outputs": [],
   "source": []
  },
  {
   "cell_type": "code",
   "execution_count": null,
   "metadata": {},
   "outputs": [],
   "source": []
  }
 ],
 "metadata": {
  "kernelspec": {
   "display_name": "Python 3",
   "language": "python",
   "name": "python3"
  },
  "language_info": {
   "codemirror_mode": {
    "name": "ipython",
    "version": 3
   },
   "file_extension": ".py",
   "mimetype": "text/x-python",
   "name": "python",
   "nbconvert_exporter": "python",
   "pygments_lexer": "ipython3",
   "version": "3.7.3"
  }
 },
 "nbformat": 4,
 "nbformat_minor": 4
}
