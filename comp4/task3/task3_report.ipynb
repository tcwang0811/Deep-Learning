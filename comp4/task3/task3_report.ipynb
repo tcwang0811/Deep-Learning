{
 "cells": [
  {
   "cell_type": "markdown",
   "metadata": {},
   "source": [
    "# 深度學習第四次競賽報告 - 第12組 工具人智慧\n",
    "組員：\n",
    "<br/>107024501 高瑀鍹\n",
    "<br/>107024506 王子誠\n",
    "<br/>107024511 羅揚\n",
    "<br/>107024522 戴子翔"
   ]
  },
  {
   "cell_type": "markdown",
   "metadata": {},
   "source": [
    "# Task 3"
   ]
  },
  {
   "cell_type": "markdown",
   "metadata": {},
   "source": [
    "## Data Preprocessing and Augmentation\n",
    "\n",
    "Preprocessing的部分與先前相似，因為顏色是隨機生成，所以我們先將圖片轉為灰階，因為我們並不需要模型去學習顏色。此外，我們將圖片的大小壓縮至64x64，因為我們發現這樣做可以使訓練速度加快許多但performance並不會差太多。最後，我們因為沒有使用pre-trained model，所以只是單純將圖片normaliz至0~1。augmentataion的部分也與先前相同使用旋轉與水平、垂直翻轉。"
   ]
  },
  {
   "cell_type": "markdown",
   "metadata": {},
   "source": [
    "## Model Architecture and Loss Function\n",
    "\n",
    "這裡使用的模型與task 1相同，都是參考Hadsell et al. (2005)的方法。模型架構也與task 1相似，唯一的差別只有因為圖片是灰階並且大小是64x64，表示每張圖片變得比先前小許多，所以每個convolution layers的filter個數改成兩倍。\n",
    "<br/> Loss function的部分也與先前相同使用contrasitive loss。"
   ]
  },
  {
   "cell_type": "markdown",
   "metadata": {},
   "source": [
    "## Transfer Learning\n",
    "\n",
    "因為Task 2與Task 3的圖片相似，都是經過Style transfer的圖片，差別只有task 3的圖片加上了Adversarial attack。因此，我們使用Transfer learning的概念，先使用Task 2的資料訓練85個epoch之後，再使用Task 3的資料進行訓練。\n",
    "<br/>根據我們的結果，使用Transfer Learning之後，只需要訓練至第130個epoch，即額外再訓練45個epoch便有非常好的效果，validation準確率可達70%。可見使用Transfer learning不僅可以使效果變好更可以加快訓練速度。"
   ]
  },
  {
   "cell_type": "markdown",
   "metadata": {},
   "source": [
    "## Other Methods\n",
    "\n",
    "我們也同樣對task 2的模型使用過transfer learning，但task 2的模型即便在task 2上有較好的結果，但使用transfer learning到task 3之後，效果卻較為不好，validation準確度只有約64%。"
   ]
  }
 ],
 "metadata": {
  "kernelspec": {
   "display_name": "Python 3",
   "language": "python",
   "name": "python3"
  },
  "language_info": {
   "codemirror_mode": {
    "name": "ipython",
    "version": 3
   },
   "file_extension": ".py",
   "mimetype": "text/x-python",
   "name": "python",
   "nbconvert_exporter": "python",
   "pygments_lexer": "ipython3",
   "version": "3.7.3"
  }
 },
 "nbformat": 4,
 "nbformat_minor": 2
}
