{
 "cells": [
  {
   "cell_type": "markdown",
   "metadata": {},
   "source": [
    "# 深度學習第四次競賽報告 - 第12組 工具人智慧\n",
    "組員：\n",
    "<br/>107024501 高瑀鍹\n",
    "<br/>107024506 王子誠\n",
    "<br/>107024511 羅揚\n",
    "<br/>107024522 戴子翔"
   ]
  },
  {
   "cell_type": "markdown",
   "metadata": {},
   "source": [
    "# Conclusion and Lesson Learned"
   ]
  },
  {
   "cell_type": "markdown",
   "metadata": {},
   "source": [
    "以下是我們的結論與從這次比賽中學習到的事:\n",
    "\n",
    "1. 一開始我們使用一些天馬行空的方法處理Image Captcha的問題，但都無法獲得很好的成效。所以我們上網搜尋相關的文獻，改為使用Siamese Network相關的做法始得突破Image Captcha的門檻。這讓我們了解到，處理相關問題時，可以多多參考網路上其他人所提出的方法，可以有事半功倍之效。\n",
    "2. 觀察過Task2、3、4的資料之後，我們發現這幾個task的圖片樣式相似，所以可以使用transfer learning的方法訓練模型，不只能夠取得更好的效果也能加快訓練速度。\n",
    "3. 我們發現Task2、3、4的圖片顏色為隨機生成。先前Image Caption的作業中，助教建議如果圖片顏色是隨機的，可以將圖片轉為灰階，因為不需要模型去學習圖片的顏色，所以我們這次也同樣把圖片轉為灰階。這同樣讓模型訓練速度更快並獲得更好的效果。\n",
    "4. 不論是因為圖片顏色隨機而轉為灰階，或是因為圖片樣式相似而使用transfer learning，都是必須要直接用肉眼觀察圖片才能發現。可見在訓練模型之前，必須先了解資料的特性才能夠使用適當的方式進行訓練，達成事半功倍的效果。\n",
    "5. 一開始使用Contrastive loss時，訓練到一半便會出現loss為nan的情況。透過了解Contrastive loss的概念之後，我們認為可能是因為向量長度的緣故使訓練過程出問題。透過新的方式計算向量之間的距離之後，便沒有出現loss為nan的情況，也能夠有不錯的預測結果。這讓我們了解到，在套用不同的loss function之前，最好要先了解loss function的意義與背後的概念，才能夠正確的實作不同的loss function，若出現問題也才能夠知道該如何調整。\n",
    "6. 我們一開始用機器學習的方法處理audio，像是XGBoost、Random forest，直接去對音檔的波形資料去做預測，但頂多到達0.4也無法突破門檻，後來我們上網找了些關於音檔如何提取特徵的方法，並取了其中的幾個特徵例如音頻的光譜圖、音頻的質心分布、以及和頻率有關的特徵，因為我們認為音頻是一個可以分辨出提示音的相當突出的特點，因為通常背景音樂會聽起來和諧是因為它的頻率沒有太大的波動，且分布差異並不會太大。\n",
    "7. 我們合併這些features，並用1D Convolutional Neural Networks建立模型。值得一提的是我們activation的function使用relu，這除了可以避免gradient vanishing的問題，也因為取的是音檔資訊，會有很多高低起伏的資訊，利用relu的特性all or none law，若音檔的振幅未達一定高度，可以合理懷疑它是不重要的聲音資訊，輸出就會為0，在這樣的特徵以及架構下，我們的結果就可以突破0.5的門檻。\n",
    "8. 因為我們先前並沒有學過任何與audio有關的知識，所以一開始的時候都是使用機器學習或深度學習的方法單純對波形進行分析，但都沒辦法獲得很好的成效。直到我們在網路上搜尋，開始使用一些在audio領域會使用的特徵提取方式，才能夠有必較好的結果。可見除了單純使用機器學習或深度學習方法之外，若能夠融合不同領域的方法，能夠讓結果有更好的突破。"
   ]
  }
 ],
 "metadata": {
  "kernelspec": {
   "display_name": "Python 3",
   "language": "python",
   "name": "python3"
  },
  "language_info": {
   "codemirror_mode": {
    "name": "ipython",
    "version": 3
   },
   "file_extension": ".py",
   "mimetype": "text/x-python",
   "name": "python",
   "nbconvert_exporter": "python",
   "pygments_lexer": "ipython3",
   "version": "3.7.3"
  }
 },
 "nbformat": 4,
 "nbformat_minor": 2
}
